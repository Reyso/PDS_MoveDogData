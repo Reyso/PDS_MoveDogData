import pandas as pd
import numpy as np
import matplotlib.pyplot as plt
import scipy.signal as sp



def sliding_window(signal, window_size:int, step_size:int):
    """
    Implementa uma janela de observação deslizante ao longo de um sinal.

    Parameters:
    ----------
    signal: np.array- ou list-like
        Sinal de entrada; pode ser uma lista ou um array numpy.

    window_size: int
        Tamanho da janela de observação, dado em elementos do sinal de entrada.

    step_size: int
        Valor do deslocamento da janela de observada, em elementos do sinal de
        entrada.

    Returns:
    --------
    Um gerador Python que retorna uma seção do sinal de entrada a cada iteração.

    """
    for i in range(0, len(signal) - window_size + 1, step_size):
        yield signal[i:i+window_size]





path    = "r:\Downloads\DogMoveData_csv_format\DogMoveData.csv"
path2   = "r:\Downloads\DogMoveData_csv_format\DogInfo.csv"
df_data = pd.read_csv(path)
df_info = pd.read_csv(path2)


df_data.columns


df_info.columns


df_info['Breed'].nunique()


df_data['DogID'].nunique()


df = df.loc[:, ~df.columns.str.contains('Back')]
df.head()


df = df.loc[:, ~df.columns.str.contains('Back')]
print(df.head())


df.describe()





gp = 1     # passband gain (dB)
gs = 50    # stopband gain (actually, minimum attenuation, in dB)

fss = 100      # sampling frequency (Hz)
fp2 = 1   # passband frequency  (Hz)
fs2 = 0.5    # stopband frequency (Hz)

fn = fss/2    # Nyquist frequency


filtype = 'ellip'  # qual aproximation
b, a = sp.iirdesign(fs=fss,wp=fp2,ws=fs2,gpass=gp,gstop=gs,analog=False,
                    ftype=filtype,output='ba') # função de projeto do filtro IIR

# Cálculo da resposta em frequência
w, h = sp.freqz(b, a, None, fs = fss)
h_mag = 20 * np.log10( abs(h)) # frequency response magnitude (dB)
h_ang = np.unwrap(np.angle(h)) # frequency response phase

print('Ordem do filtro: ', len(a)-1)
print('\n')

# Gráficos da resposta em frequência
fig = plt.figure(figsize=(10, 4.8))
plt.plot( w,h_mag , linewidth = 1.20, label = 'Magnitude', color='darkred')
plt.title('Resposta em Frequência do Filtro Passa-Alta')
plt.ylabel('Magnitude [dB]', color = 'black')
plt.xlabel('Frequency [Hz]')
plt.grid(which='both', axis='both', color='LightGray', linestyle='dashed', linewidth = 0.5)
plt.axis([0,10, -100,2])
## Gera legenda
plt.legend()
plt.show()


gp = 1     # passband gain (dB)
gs = 50    # stopband gain (actually, minimum attenuation, in dB)

fss = 100      # sampling frequency (Hz)
fp2 = 10   # passband frequency  (Hz)
fs2 = 25    # stopband frequency (Hz)

fn = fss/2    # Nyquist frequency


filtype = 'butter'  # qual aproximation
b, a = sp.iirdesign(fs=fss,wp=fp2,ws=fs2,gpass=gp,gstop=gs,analog=False,
                    ftype=filtype,output='ba') # função de projeto do filtro IIR

# Cálculo da resposta em frequência
w, h = sp.freqz(b, a, None, fs = fss)
h_mag = 20 * np.log10( abs(h)) # frequency response magnitude (dB)
h_ang = np.unwrap(np.angle(h)) # frequency response phase

print('Ordem do filtro: ', len(a)-1)
print('\n')

# Gráficos da resposta em frequência
fig = plt.figure(figsize=(10, 4.8))
plt.plot( w,h_mag , linewidth = 1.20, label = 'Magnitude', color='darkred')
plt.title('Resposta em Frequência do Filtro Passa-Baixa')
plt.ylabel('Magnitude [dB]', color = 'black')
plt.xlabel('Frequency [Hz]')
plt.grid(which='both', axis='both', color='LightGray', linestyle='dashed', linewidth = 0.5)
plt.axis([0,50, -100,2])
## Gera legenda
plt.legend()
plt.show()





df.head()


df.describe()


df['DogID'].unique()





df.columns


import pandas as pd
import numpy as np

# Supondo que df já esteja carregado e tenha as colunas 'DogID', 'acc_x', 'acc_y', 'acc_z', 'gyro_x', 'gyro_y', 'gyro_z'
# Calcular a norma euclidiana para acelerômetro
df['acc_norm'] = np.sqrt(df['ANeck_x']**2 + df['ANeck_y']**2 + df['ANeck_z']**2)

# Calcular a norma euclidiana para giroscópio
df['gyro_norm'] = np.sqrt(df['GNeck_x']**2 + df['GNeck_y']**2 + df['GNeck_z']**2)

# Agrupar por 'DogID' e calcular a média das normas
df_norma = df.groupby('DogID')[['acc_norm', 'gyro_norm']].mean().reset_index()


result.sample(10)


w_gen = sliding_window(df['acc_norm'], 100, 10)
w_list = []


# Exemplo de utilização
for sig_w in w_gen: # iteração sobre o gerador definido
    w_list.append(sig_w) #save each window


w_list


df['acc_norm'] = np.array(df['acc_norm'])



